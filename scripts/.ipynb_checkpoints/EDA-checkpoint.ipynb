{
 "cells": [
  {
   "cell_type": "markdown",
   "metadata": {},
   "source": [
    "# Exploratory Data Analysis"
   ]
  },
  {
   "cell_type": "markdown",
   "metadata": {},
   "source": [
    "## Import relevant libraries"
   ]
  },
  {
   "cell_type": "code",
   "execution_count": 2,
   "metadata": {
    "ExecuteTime": {
     "end_time": "2020-10-21T18:54:02.333087Z",
     "start_time": "2020-10-21T18:54:01.937120Z"
    }
   },
   "outputs": [],
   "source": [
    "import os\n",
    "import pandas as pd"
   ]
  },
  {
   "cell_type": "markdown",
   "metadata": {},
   "source": [
    "## Load data"
   ]
  },
  {
   "cell_type": "code",
   "execution_count": 5,
   "metadata": {
    "ExecuteTime": {
     "end_time": "2020-10-21T18:56:56.881426Z",
     "start_time": "2020-10-21T18:56:56.875971Z"
    }
   },
   "outputs": [],
   "source": [
    "# setup data path\n",
    "base_path = os.path.join('..', 'datasets')\n",
    "company_data_path = os.path.join(base_path ,'companies.csv')\n",
    "financial_long_path = os.path.join(base_path ,'financials__long_term.csv')\n",
    "financial_short_path = os.path.join(base_path ,'financials__short_term.csv')"
   ]
  },
  {
   "cell_type": "code",
   "execution_count": 6,
   "metadata": {
    "ExecuteTime": {
     "end_time": "2020-10-21T18:57:05.057949Z",
     "start_time": "2020-10-21T18:57:05.045484Z"
    }
   },
   "outputs": [],
   "source": [
    "# load datasets\n",
    "company_data = pd.read_csv(company_data_path)\n",
    "financial_long = pd.read_csv(financial_long_path)\n",
    "financial_short = pd.read_csv(financial_short_path)"
   ]
  },
  {
   "cell_type": "markdown",
   "metadata": {
    "ExecuteTime": {
     "end_time": "2020-10-21T19:27:40.130401Z",
     "start_time": "2020-10-21T19:27:40.004236Z"
    }
   },
   "source": [
    "## Explore data"
   ]
  },
  {
   "cell_type": "markdown",
   "metadata": {},
   "source": [
    "There are 182 companies located in `france`, `germany`, `united kingdom`"
   ]
  },
  {
   "cell_type": "code",
   "execution_count": 27,
   "metadata": {
    "ExecuteTime": {
     "end_time": "2020-10-21T19:40:03.007395Z",
     "start_time": "2020-10-21T19:40:03.000100Z"
    }
   },
   "outputs": [
    {
     "data": {
      "text/html": [
       "<div>\n",
       "<style scoped>\n",
       "    .dataframe tbody tr th:only-of-type {\n",
       "        vertical-align: middle;\n",
       "    }\n",
       "\n",
       "    .dataframe tbody tr th {\n",
       "        vertical-align: top;\n",
       "    }\n",
       "\n",
       "    .dataframe thead th {\n",
       "        text-align: right;\n",
       "    }\n",
       "</style>\n",
       "<table border=\"1\" class=\"dataframe\">\n",
       "  <thead>\n",
       "    <tr style=\"text-align: right;\">\n",
       "      <th></th>\n",
       "      <th>country</th>\n",
       "      <th>name</th>\n",
       "    </tr>\n",
       "  </thead>\n",
       "  <tbody>\n",
       "    <tr>\n",
       "      <th>0</th>\n",
       "      <td>france</td>\n",
       "      <td>accorhotels</td>\n",
       "    </tr>\n",
       "    <tr>\n",
       "      <th>1</th>\n",
       "      <td>france</td>\n",
       "      <td>adp aerports de paris</td>\n",
       "    </tr>\n",
       "    <tr>\n",
       "      <th>2</th>\n",
       "      <td>france</td>\n",
       "      <td>air france</td>\n",
       "    </tr>\n",
       "    <tr>\n",
       "      <th>3</th>\n",
       "      <td>france</td>\n",
       "      <td>air liquide</td>\n",
       "    </tr>\n",
       "    <tr>\n",
       "      <th>4</th>\n",
       "      <td>france</td>\n",
       "      <td>axa group</td>\n",
       "    </tr>\n",
       "  </tbody>\n",
       "</table>\n",
       "</div>"
      ],
      "text/plain": [
       "  country                   name\n",
       "0  france            accorhotels\n",
       "1  france  adp aerports de paris\n",
       "2  france             air france\n",
       "3  france            air liquide\n",
       "4  france              axa group"
      ]
     },
     "execution_count": 27,
     "metadata": {},
     "output_type": "execute_result"
    }
   ],
   "source": [
    "company_data.head()"
   ]
  },
  {
   "cell_type": "markdown",
   "metadata": {},
   "source": [
    " "
   ]
  },
  {
   "cell_type": "markdown",
   "metadata": {},
   "source": [
    "Data in `financial_long` are monthly data from Jan 2014 to Dec 2018  \n",
    "Balanced panel data: 60 rows each, 181 companies ---- 60*181 = 10,860 rows"
   ]
  },
  {
   "cell_type": "code",
   "execution_count": 49,
   "metadata": {
    "ExecuteTime": {
     "end_time": "2020-10-21T19:59:49.141973Z",
     "start_time": "2020-10-21T19:59:49.125314Z"
    }
   },
   "outputs": [
    {
     "data": {
      "text/html": [
       "<div>\n",
       "<style scoped>\n",
       "    .dataframe tbody tr th:only-of-type {\n",
       "        vertical-align: middle;\n",
       "    }\n",
       "\n",
       "    .dataframe tbody tr th {\n",
       "        vertical-align: top;\n",
       "    }\n",
       "\n",
       "    .dataframe thead th {\n",
       "        text-align: right;\n",
       "    }\n",
       "</style>\n",
       "<table border=\"1\" class=\"dataframe\">\n",
       "  <thead>\n",
       "    <tr style=\"text-align: right;\">\n",
       "      <th></th>\n",
       "      <th>company_name</th>\n",
       "      <th>country</th>\n",
       "      <th>assets</th>\n",
       "      <th>price</th>\n",
       "      <th>sector</th>\n",
       "      <th>operating</th>\n",
       "      <th>debt_to_assets</th>\n",
       "      <th>age</th>\n",
       "      <th>date</th>\n",
       "    </tr>\n",
       "  </thead>\n",
       "  <tbody>\n",
       "    <tr>\n",
       "      <th>0</th>\n",
       "      <td>adidas</td>\n",
       "      <td>germany</td>\n",
       "      <td>12417.0</td>\n",
       "      <td>82.91</td>\n",
       "      <td>consumer discretionary</td>\n",
       "      <td>6.08</td>\n",
       "      <td>15.08</td>\n",
       "      <td>64</td>\n",
       "      <td>2014-01-01T00:00:00.000Z</td>\n",
       "    </tr>\n",
       "    <tr>\n",
       "      <th>1</th>\n",
       "      <td>adidas</td>\n",
       "      <td>germany</td>\n",
       "      <td>12417.0</td>\n",
       "      <td>84.20</td>\n",
       "      <td>consumer discretionary</td>\n",
       "      <td>6.08</td>\n",
       "      <td>15.08</td>\n",
       "      <td>64</td>\n",
       "      <td>2014-02-01T00:00:00.000Z</td>\n",
       "    </tr>\n",
       "    <tr>\n",
       "      <th>2</th>\n",
       "      <td>adidas</td>\n",
       "      <td>germany</td>\n",
       "      <td>12417.0</td>\n",
       "      <td>78.49</td>\n",
       "      <td>consumer discretionary</td>\n",
       "      <td>6.08</td>\n",
       "      <td>15.08</td>\n",
       "      <td>64</td>\n",
       "      <td>2014-03-01T00:00:00.000Z</td>\n",
       "    </tr>\n",
       "    <tr>\n",
       "      <th>3</th>\n",
       "      <td>adidas</td>\n",
       "      <td>germany</td>\n",
       "      <td>12417.0</td>\n",
       "      <td>76.73</td>\n",
       "      <td>consumer discretionary</td>\n",
       "      <td>6.08</td>\n",
       "      <td>15.08</td>\n",
       "      <td>64</td>\n",
       "      <td>2014-04-01T00:00:00.000Z</td>\n",
       "    </tr>\n",
       "    <tr>\n",
       "      <th>4</th>\n",
       "      <td>adidas</td>\n",
       "      <td>germany</td>\n",
       "      <td>12417.0</td>\n",
       "      <td>78.71</td>\n",
       "      <td>consumer discretionary</td>\n",
       "      <td>6.08</td>\n",
       "      <td>15.08</td>\n",
       "      <td>64</td>\n",
       "      <td>2014-05-01T00:00:00.000Z</td>\n",
       "    </tr>\n",
       "  </tbody>\n",
       "</table>\n",
       "</div>"
      ],
      "text/plain": [
       "  company_name  country   assets  price                  sector  operating  \\\n",
       "0       adidas  germany  12417.0  82.91  consumer discretionary       6.08   \n",
       "1       adidas  germany  12417.0  84.20  consumer discretionary       6.08   \n",
       "2       adidas  germany  12417.0  78.49  consumer discretionary       6.08   \n",
       "3       adidas  germany  12417.0  76.73  consumer discretionary       6.08   \n",
       "4       adidas  germany  12417.0  78.71  consumer discretionary       6.08   \n",
       "\n",
       "   debt_to_assets  age                      date  \n",
       "0           15.08   64  2014-01-01T00:00:00.000Z  \n",
       "1           15.08   64  2014-02-01T00:00:00.000Z  \n",
       "2           15.08   64  2014-03-01T00:00:00.000Z  \n",
       "3           15.08   64  2014-04-01T00:00:00.000Z  \n",
       "4           15.08   64  2014-05-01T00:00:00.000Z  "
      ]
     },
     "execution_count": 49,
     "metadata": {},
     "output_type": "execute_result"
    }
   ],
   "source": [
    "financial_long.head()"
   ]
  },
  {
   "cell_type": "code",
   "execution_count": 119,
   "metadata": {
    "ExecuteTime": {
     "end_time": "2020-10-21T20:25:40.260123Z",
     "start_time": "2020-10-21T20:25:40.251186Z"
    }
   },
   "outputs": [
    {
     "data": {
      "text/plain": [
       "60"
      ]
     },
     "execution_count": 119,
     "metadata": {},
     "output_type": "execute_result"
    }
   ],
   "source": [
    "len(financial_long['date'].unique())"
   ]
  },
  {
   "cell_type": "code",
   "execution_count": 118,
   "metadata": {
    "ExecuteTime": {
     "end_time": "2020-10-21T20:25:04.356609Z",
     "start_time": "2020-10-21T20:25:04.348820Z"
    }
   },
   "outputs": [
    {
     "data": {
      "text/plain": [
       "181"
      ]
     },
     "execution_count": 118,
     "metadata": {},
     "output_type": "execute_result"
    }
   ],
   "source": [
    "len(financial_long['company_name'].unique())"
   ]
  },
  {
   "cell_type": "markdown",
   "metadata": {},
   "source": [
    " "
   ]
  },
  {
   "cell_type": "markdown",
   "metadata": {},
   "source": [
    "Data in `financial_short` are daily data from 4 Jan 2016 to 30 Dec 2016\n",
    "This is an unbalanced panel data:  \n",
    "There are companies with 253, 255, 256, 257:  \n",
    "companies with 253 rows miss date = {'2016-05-02,'2016-05-30,'2016-08-29','2016-12-27'}  \n",
    "companies with 255 rows miss date = {'2016-05-16, '2016-10-03'}  \n",
    "two companies with 256 rows: {'maurel et prom': '2016-12-30', 'mersen': 2016-08-01'}"
   ]
  },
  {
   "cell_type": "code",
   "execution_count": 96,
   "metadata": {
    "ExecuteTime": {
     "end_time": "2020-10-21T20:15:58.792174Z",
     "start_time": "2020-10-21T20:15:58.778453Z"
    }
   },
   "outputs": [
    {
     "data": {
      "text/html": [
       "<div>\n",
       "<style scoped>\n",
       "    .dataframe tbody tr th:only-of-type {\n",
       "        vertical-align: middle;\n",
       "    }\n",
       "\n",
       "    .dataframe tbody tr th {\n",
       "        vertical-align: top;\n",
       "    }\n",
       "\n",
       "    .dataframe thead th {\n",
       "        text-align: right;\n",
       "    }\n",
       "</style>\n",
       "<table border=\"1\" class=\"dataframe\">\n",
       "  <thead>\n",
       "    <tr style=\"text-align: right;\">\n",
       "      <th></th>\n",
       "      <th>company_name</th>\n",
       "      <th>country</th>\n",
       "      <th>assets</th>\n",
       "      <th>date</th>\n",
       "      <th>price</th>\n",
       "      <th>sector</th>\n",
       "      <th>operating</th>\n",
       "      <th>debt_to_assets</th>\n",
       "      <th>age</th>\n",
       "    </tr>\n",
       "  </thead>\n",
       "  <tbody>\n",
       "    <tr>\n",
       "      <th>0</th>\n",
       "      <td>adidas</td>\n",
       "      <td>germany</td>\n",
       "      <td>15176.0</td>\n",
       "      <td>2016-01-04T00:00:00.000Z</td>\n",
       "      <td>87.730</td>\n",
       "      <td>consumer discretionary</td>\n",
       "      <td>7.73</td>\n",
       "      <td>10.66</td>\n",
       "      <td>66</td>\n",
       "    </tr>\n",
       "    <tr>\n",
       "      <th>1</th>\n",
       "      <td>adidas</td>\n",
       "      <td>germany</td>\n",
       "      <td>15176.0</td>\n",
       "      <td>2016-01-05T00:00:00.000Z</td>\n",
       "      <td>87.212</td>\n",
       "      <td>consumer discretionary</td>\n",
       "      <td>7.73</td>\n",
       "      <td>10.66</td>\n",
       "      <td>66</td>\n",
       "    </tr>\n",
       "    <tr>\n",
       "      <th>2</th>\n",
       "      <td>adidas</td>\n",
       "      <td>germany</td>\n",
       "      <td>15176.0</td>\n",
       "      <td>2016-01-06T00:00:00.000Z</td>\n",
       "      <td>86.070</td>\n",
       "      <td>consumer discretionary</td>\n",
       "      <td>7.73</td>\n",
       "      <td>10.66</td>\n",
       "      <td>66</td>\n",
       "    </tr>\n",
       "    <tr>\n",
       "      <th>3</th>\n",
       "      <td>adidas</td>\n",
       "      <td>germany</td>\n",
       "      <td>15176.0</td>\n",
       "      <td>2016-01-07T00:00:00.000Z</td>\n",
       "      <td>84.100</td>\n",
       "      <td>consumer discretionary</td>\n",
       "      <td>7.73</td>\n",
       "      <td>10.66</td>\n",
       "      <td>66</td>\n",
       "    </tr>\n",
       "    <tr>\n",
       "      <th>4</th>\n",
       "      <td>adidas</td>\n",
       "      <td>germany</td>\n",
       "      <td>15176.0</td>\n",
       "      <td>2016-01-08T00:00:00.000Z</td>\n",
       "      <td>82.510</td>\n",
       "      <td>consumer discretionary</td>\n",
       "      <td>7.73</td>\n",
       "      <td>10.66</td>\n",
       "      <td>66</td>\n",
       "    </tr>\n",
       "  </tbody>\n",
       "</table>\n",
       "</div>"
      ],
      "text/plain": [
       "  company_name  country   assets                      date   price  \\\n",
       "0       adidas  germany  15176.0  2016-01-04T00:00:00.000Z  87.730   \n",
       "1       adidas  germany  15176.0  2016-01-05T00:00:00.000Z  87.212   \n",
       "2       adidas  germany  15176.0  2016-01-06T00:00:00.000Z  86.070   \n",
       "3       adidas  germany  15176.0  2016-01-07T00:00:00.000Z  84.100   \n",
       "4       adidas  germany  15176.0  2016-01-08T00:00:00.000Z  82.510   \n",
       "\n",
       "                   sector  operating  debt_to_assets  age  \n",
       "0  consumer discretionary       7.73           10.66   66  \n",
       "1  consumer discretionary       7.73           10.66   66  \n",
       "2  consumer discretionary       7.73           10.66   66  \n",
       "3  consumer discretionary       7.73           10.66   66  \n",
       "4  consumer discretionary       7.73           10.66   66  "
      ]
     },
     "execution_count": 96,
     "metadata": {},
     "output_type": "execute_result"
    }
   ],
   "source": [
    "financial_short.head()"
   ]
  },
  {
   "cell_type": "code",
   "execution_count": 97,
   "metadata": {
    "ExecuteTime": {
     "end_time": "2020-10-21T20:16:02.036693Z",
     "start_time": "2020-10-21T20:16:00.898013Z"
    }
   },
   "outputs": [],
   "source": [
    "company_dict = {}\n",
    "for company in financial_short.company_name.unique():\n",
    "    company_dict[company] = len(financial_short[financial_short['company_name'] == company])"
   ]
  },
  {
   "cell_type": "code",
   "execution_count": 117,
   "metadata": {
    "ExecuteTime": {
     "end_time": "2020-10-21T20:23:22.901362Z",
     "start_time": "2020-10-21T20:23:22.896925Z"
    }
   },
   "outputs": [
    {
     "data": {
      "text/plain": [
       "array([257, 255, 253, 256])"
      ]
     },
     "execution_count": 117,
     "metadata": {},
     "output_type": "execute_result"
    }
   ],
   "source": [
    "pd.Series(company_dict.values()).unique()"
   ]
  },
  {
   "cell_type": "code",
   "execution_count": 126,
   "metadata": {
    "ExecuteTime": {
     "end_time": "2020-10-21T20:32:48.672548Z",
     "start_time": "2020-10-21T20:32:48.668719Z"
    }
   },
   "outputs": [
    {
     "data": {
      "text/plain": [
       "dict_values([257, 257, 255, 255, 255, 255, 255, 255, 255, 257, 255, 255, 255, 255, 255, 255, 255, 255, 255, 255, 255, 255, 255, 255, 257, 255, 255, 257, 255, 255, 255, 255, 255, 255, 255, 255, 255, 255, 255, 255, 255, 255, 255, 255, 255, 255, 255, 255, 253, 253, 253, 253, 253, 253, 253, 253, 253, 253, 253, 253, 253, 253, 253, 253, 253, 253, 253, 253, 253, 253, 253, 253, 253, 253, 253, 253, 253, 253, 253, 253, 253, 253, 253, 253, 253, 253, 253, 253, 253, 253, 253, 253, 253, 253, 253, 253, 253, 253, 253, 253, 253, 253, 253, 253, 253, 253, 253, 253, 253, 253, 253, 253, 253, 253, 253, 253, 253, 253, 253, 253, 253, 253, 253, 253, 253, 253, 253, 253, 253, 253, 257, 257, 257, 257, 257, 257, 257, 257, 257, 257, 257, 257, 257, 257, 257, 257, 257, 257, 257, 257, 257, 257, 257, 257, 257, 257, 257, 257, 257, 257, 257, 257, 257, 256, 256, 257, 257, 257, 257, 257])"
      ]
     },
     "execution_count": 126,
     "metadata": {},
     "output_type": "execute_result"
    }
   ],
   "source": [
    "company_dict.values()"
   ]
  },
  {
   "cell_type": "markdown",
   "metadata": {},
   "source": [
    "Companies that exist in `financial_long` but not in `financial_short`"
   ]
  },
  {
   "cell_type": "code",
   "execution_count": 15,
   "metadata": {
    "ExecuteTime": {
     "end_time": "2020-10-21T19:31:34.443542Z",
     "start_time": "2020-10-21T19:31:34.429178Z"
    }
   },
   "outputs": [
    {
     "data": {
      "text/plain": [
       "{'axa group',\n",
       " 'baywa munich',\n",
       " 'beiersdorf',\n",
       " 'euromoney insttutional investors plc',\n",
       " 'faurecia',\n",
       " 'king fisher',\n",
       " 'munich re',\n",
       " 'rekitt benckise',\n",
       " 'rightmove',\n",
       " 'schneider electric',\n",
       " 'sse plc',\n",
       " 'victrex group'}"
      ]
     },
     "execution_count": 15,
     "metadata": {},
     "output_type": "execute_result"
    }
   ],
   "source": [
    "set(financial_long.company_name.unique()) - set(financial_short.company_name.unique())"
   ]
  },
  {
   "cell_type": "code",
   "execution_count": null,
   "metadata": {},
   "outputs": [],
   "source": []
  }
 ],
 "metadata": {
  "kernelspec": {
   "display_name": "Python [conda env:smm635]",
   "language": "python",
   "name": "conda-env-smm635-py"
  },
  "language_info": {
   "codemirror_mode": {
    "name": "ipython",
    "version": 3
   },
   "file_extension": ".py",
   "mimetype": "text/x-python",
   "name": "python",
   "nbconvert_exporter": "python",
   "pygments_lexer": "ipython3",
   "version": "3.8.5"
  },
  "latex_envs": {
   "LaTeX_envs_menu_present": true,
   "autoclose": false,
   "autocomplete": true,
   "bibliofile": "biblio.bib",
   "cite_by": "apalike",
   "current_citInitial": 1,
   "eqLabelWithNumbers": true,
   "eqNumInitial": 1,
   "hotkeys": {
    "equation": "Ctrl-E",
    "itemize": "Ctrl-I"
   },
   "labels_anchors": false,
   "latex_user_defs": false,
   "report_style_numbering": false,
   "user_envs_cfg": false
  },
  "toc": {
   "base_numbering": 1,
   "nav_menu": {},
   "number_sections": true,
   "sideBar": true,
   "skip_h1_title": false,
   "title_cell": "Table of Contents",
   "title_sidebar": "Contents",
   "toc_cell": false,
   "toc_position": {},
   "toc_section_display": true,
   "toc_window_display": true
  },
  "varInspector": {
   "cols": {
    "lenName": 16,
    "lenType": 16,
    "lenVar": 40
   },
   "kernels_config": {
    "python": {
     "delete_cmd_postfix": "",
     "delete_cmd_prefix": "del ",
     "library": "var_list.py",
     "varRefreshCmd": "print(var_dic_list())"
    },
    "r": {
     "delete_cmd_postfix": ") ",
     "delete_cmd_prefix": "rm(",
     "library": "var_list.r",
     "varRefreshCmd": "cat(var_dic_list()) "
    }
   },
   "types_to_exclude": [
    "module",
    "function",
    "builtin_function_or_method",
    "instance",
    "_Feature"
   ],
   "window_display": false
  }
 },
 "nbformat": 4,
 "nbformat_minor": 4
}
