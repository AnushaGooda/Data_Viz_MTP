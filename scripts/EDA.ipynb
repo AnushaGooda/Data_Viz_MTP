{
 "cells": [
  {
   "cell_type": "markdown",
   "metadata": {},
   "source": [
    "# Exploratory Data Analysis"
   ]
  },
  {
   "cell_type": "markdown",
   "metadata": {},
   "source": [
    "## Import relevant libraries"
   ]
  },
  {
   "cell_type": "code",
   "execution_count": 2,
   "metadata": {
    "ExecuteTime": {
     "end_time": "2020-10-27T17:49:06.666524Z",
     "start_time": "2020-10-27T17:49:05.717774Z"
    }
   },
   "outputs": [],
   "source": [
    "import os\n",
    "import numpy as np\n",
    "import pandas as pd\n",
    "import matplotlib.pyplot as plt\n",
    "import datetime"
   ]
  },
  {
   "cell_type": "markdown",
   "metadata": {},
   "source": [
    "## Load data"
   ]
  },
  {
   "cell_type": "code",
   "execution_count": 3,
   "metadata": {
    "ExecuteTime": {
     "end_time": "2020-10-27T17:49:06.673560Z",
     "start_time": "2020-10-27T17:49:06.668478Z"
    }
   },
   "outputs": [],
   "source": [
    "# setup data path\n",
    "base_path = os.path.join('..', 'datasets')\n",
    "company_data_path = os.path.join(base_path ,'companies.csv')\n",
    "financial_long_path = os.path.join(base_path ,'financials__long_term.csv')\n",
    "financial_short_path = os.path.join(base_path ,'financials__short_term.csv')"
   ]
  },
  {
   "cell_type": "code",
   "execution_count": 4,
   "metadata": {
    "ExecuteTime": {
     "end_time": "2020-10-27T17:49:06.916426Z",
     "start_time": "2020-10-27T17:49:06.675815Z"
    }
   },
   "outputs": [],
   "source": [
    "# load datasets\n",
    "company_data = pd.read_csv(company_data_path)\n",
    "financial_long = pd.read_csv(financial_long_path)\n",
    "financial_short = pd.read_csv(financial_short_path)"
   ]
  },
  {
   "cell_type": "markdown",
   "metadata": {
    "ExecuteTime": {
     "end_time": "2020-10-21T19:27:40.130401Z",
     "start_time": "2020-10-21T19:27:40.004236Z"
    }
   },
   "source": [
    "## Explore data"
   ]
  },
  {
   "cell_type": "markdown",
   "metadata": {},
   "source": [
    "There are 182 companies located in `france`, `germany`, `united kingdom`"
   ]
  },
  {
   "cell_type": "code",
   "execution_count": 5,
   "metadata": {
    "ExecuteTime": {
     "end_time": "2020-10-27T17:49:06.935784Z",
     "start_time": "2020-10-27T17:49:06.918177Z"
    }
   },
   "outputs": [
    {
     "data": {
      "text/html": [
       "<div>\n",
       "<style scoped>\n",
       "    .dataframe tbody tr th:only-of-type {\n",
       "        vertical-align: middle;\n",
       "    }\n",
       "\n",
       "    .dataframe tbody tr th {\n",
       "        vertical-align: top;\n",
       "    }\n",
       "\n",
       "    .dataframe thead th {\n",
       "        text-align: right;\n",
       "    }\n",
       "</style>\n",
       "<table border=\"1\" class=\"dataframe\">\n",
       "  <thead>\n",
       "    <tr style=\"text-align: right;\">\n",
       "      <th></th>\n",
       "      <th>country</th>\n",
       "      <th>name</th>\n",
       "    </tr>\n",
       "  </thead>\n",
       "  <tbody>\n",
       "    <tr>\n",
       "      <th>0</th>\n",
       "      <td>france</td>\n",
       "      <td>accorhotels</td>\n",
       "    </tr>\n",
       "    <tr>\n",
       "      <th>1</th>\n",
       "      <td>france</td>\n",
       "      <td>adp aerports de paris</td>\n",
       "    </tr>\n",
       "    <tr>\n",
       "      <th>2</th>\n",
       "      <td>france</td>\n",
       "      <td>air france</td>\n",
       "    </tr>\n",
       "    <tr>\n",
       "      <th>3</th>\n",
       "      <td>france</td>\n",
       "      <td>air liquide</td>\n",
       "    </tr>\n",
       "    <tr>\n",
       "      <th>4</th>\n",
       "      <td>france</td>\n",
       "      <td>axa group</td>\n",
       "    </tr>\n",
       "  </tbody>\n",
       "</table>\n",
       "</div>"
      ],
      "text/plain": [
       "  country                   name\n",
       "0  france            accorhotels\n",
       "1  france  adp aerports de paris\n",
       "2  france             air france\n",
       "3  france            air liquide\n",
       "4  france              axa group"
      ]
     },
     "execution_count": 5,
     "metadata": {},
     "output_type": "execute_result"
    }
   ],
   "source": [
    "company_data.head()"
   ]
  },
  {
   "cell_type": "markdown",
   "metadata": {},
   "source": [
    " "
   ]
  },
  {
   "cell_type": "markdown",
   "metadata": {},
   "source": [
    "Data in `financial_long` are monthly data from Jan 2014 to Dec 2018  \n",
    "Balanced panel data: 60 rows each, 181 companies ---- 60*181 = 10,860 rows"
   ]
  },
  {
   "cell_type": "code",
   "execution_count": 6,
   "metadata": {
    "ExecuteTime": {
     "end_time": "2020-10-27T17:49:07.025271Z",
     "start_time": "2020-10-27T17:49:06.937508Z"
    }
   },
   "outputs": [
    {
     "data": {
      "text/html": [
       "<div>\n",
       "<style scoped>\n",
       "    .dataframe tbody tr th:only-of-type {\n",
       "        vertical-align: middle;\n",
       "    }\n",
       "\n",
       "    .dataframe tbody tr th {\n",
       "        vertical-align: top;\n",
       "    }\n",
       "\n",
       "    .dataframe thead th {\n",
       "        text-align: right;\n",
       "    }\n",
       "</style>\n",
       "<table border=\"1\" class=\"dataframe\">\n",
       "  <thead>\n",
       "    <tr style=\"text-align: right;\">\n",
       "      <th></th>\n",
       "      <th>company_name</th>\n",
       "      <th>country</th>\n",
       "      <th>assets</th>\n",
       "      <th>price</th>\n",
       "      <th>sector</th>\n",
       "      <th>operating</th>\n",
       "      <th>debt_to_assets</th>\n",
       "      <th>age</th>\n",
       "      <th>date</th>\n",
       "    </tr>\n",
       "  </thead>\n",
       "  <tbody>\n",
       "    <tr>\n",
       "      <th>0</th>\n",
       "      <td>adidas</td>\n",
       "      <td>germany</td>\n",
       "      <td>12417.0</td>\n",
       "      <td>82.91</td>\n",
       "      <td>consumer discretionary</td>\n",
       "      <td>6.08</td>\n",
       "      <td>15.08</td>\n",
       "      <td>64</td>\n",
       "      <td>2014-01-01T00:00:00.000Z</td>\n",
       "    </tr>\n",
       "    <tr>\n",
       "      <th>1</th>\n",
       "      <td>adidas</td>\n",
       "      <td>germany</td>\n",
       "      <td>12417.0</td>\n",
       "      <td>84.20</td>\n",
       "      <td>consumer discretionary</td>\n",
       "      <td>6.08</td>\n",
       "      <td>15.08</td>\n",
       "      <td>64</td>\n",
       "      <td>2014-02-01T00:00:00.000Z</td>\n",
       "    </tr>\n",
       "    <tr>\n",
       "      <th>2</th>\n",
       "      <td>adidas</td>\n",
       "      <td>germany</td>\n",
       "      <td>12417.0</td>\n",
       "      <td>78.49</td>\n",
       "      <td>consumer discretionary</td>\n",
       "      <td>6.08</td>\n",
       "      <td>15.08</td>\n",
       "      <td>64</td>\n",
       "      <td>2014-03-01T00:00:00.000Z</td>\n",
       "    </tr>\n",
       "    <tr>\n",
       "      <th>3</th>\n",
       "      <td>adidas</td>\n",
       "      <td>germany</td>\n",
       "      <td>12417.0</td>\n",
       "      <td>76.73</td>\n",
       "      <td>consumer discretionary</td>\n",
       "      <td>6.08</td>\n",
       "      <td>15.08</td>\n",
       "      <td>64</td>\n",
       "      <td>2014-04-01T00:00:00.000Z</td>\n",
       "    </tr>\n",
       "    <tr>\n",
       "      <th>4</th>\n",
       "      <td>adidas</td>\n",
       "      <td>germany</td>\n",
       "      <td>12417.0</td>\n",
       "      <td>78.71</td>\n",
       "      <td>consumer discretionary</td>\n",
       "      <td>6.08</td>\n",
       "      <td>15.08</td>\n",
       "      <td>64</td>\n",
       "      <td>2014-05-01T00:00:00.000Z</td>\n",
       "    </tr>\n",
       "  </tbody>\n",
       "</table>\n",
       "</div>"
      ],
      "text/plain": [
       "  company_name  country   assets  price                  sector  operating  \\\n",
       "0       adidas  germany  12417.0  82.91  consumer discretionary       6.08   \n",
       "1       adidas  germany  12417.0  84.20  consumer discretionary       6.08   \n",
       "2       adidas  germany  12417.0  78.49  consumer discretionary       6.08   \n",
       "3       adidas  germany  12417.0  76.73  consumer discretionary       6.08   \n",
       "4       adidas  germany  12417.0  78.71  consumer discretionary       6.08   \n",
       "\n",
       "   debt_to_assets  age                      date  \n",
       "0           15.08   64  2014-01-01T00:00:00.000Z  \n",
       "1           15.08   64  2014-02-01T00:00:00.000Z  \n",
       "2           15.08   64  2014-03-01T00:00:00.000Z  \n",
       "3           15.08   64  2014-04-01T00:00:00.000Z  \n",
       "4           15.08   64  2014-05-01T00:00:00.000Z  "
      ]
     },
     "execution_count": 6,
     "metadata": {},
     "output_type": "execute_result"
    }
   ],
   "source": [
    "financial_long.head()"
   ]
  },
  {
   "cell_type": "code",
   "execution_count": 7,
   "metadata": {
    "ExecuteTime": {
     "end_time": "2020-10-27T17:49:07.073107Z",
     "start_time": "2020-10-27T17:49:07.026679Z"
    }
   },
   "outputs": [
    {
     "data": {
      "text/plain": [
       "60"
      ]
     },
     "execution_count": 7,
     "metadata": {},
     "output_type": "execute_result"
    }
   ],
   "source": [
    "len(financial_long['date'].unique())"
   ]
  },
  {
   "cell_type": "code",
   "execution_count": 8,
   "metadata": {
    "ExecuteTime": {
     "end_time": "2020-10-27T17:49:07.098479Z",
     "start_time": "2020-10-27T17:49:07.077183Z"
    }
   },
   "outputs": [
    {
     "data": {
      "text/plain": [
       "181"
      ]
     },
     "execution_count": 8,
     "metadata": {},
     "output_type": "execute_result"
    }
   ],
   "source": [
    "len(financial_long['company_name'].unique())"
   ]
  },
  {
   "cell_type": "markdown",
   "metadata": {},
   "source": [
    " "
   ]
  },
  {
   "cell_type": "markdown",
   "metadata": {},
   "source": [
    "Data in `financial_short` are daily data from 4 Jan 2016 to 30 Dec 2016  \n",
    "This is an unbalanced panel data probably because holidays are different across country :  \n",
    "There are companies with 253, 255, 256, 257:  \n",
    "companies with 253 rows miss date = {'2016-05-02,'2016-05-30,'2016-08-29','2016-12-27'} **ALL UK COMPANIES**   \n",
    "companies with 255 rows miss date = {'2016-05-16, '2016-10-03'} **ALL GE COMPANIES**  \n",
    "two companies with 256 rows: {'maurel et prom': '2016-12-30', 'mersen': 2016-08-01'} **BOTH FR COMPANIES**  \n",
    "companies with 257 rows **GE & FR COMPANIES**"
   ]
  },
  {
   "cell_type": "code",
   "execution_count": 9,
   "metadata": {
    "ExecuteTime": {
     "end_time": "2020-10-27T17:49:07.139512Z",
     "start_time": "2020-10-27T17:49:07.102921Z"
    }
   },
   "outputs": [
    {
     "data": {
      "text/html": [
       "<div>\n",
       "<style scoped>\n",
       "    .dataframe tbody tr th:only-of-type {\n",
       "        vertical-align: middle;\n",
       "    }\n",
       "\n",
       "    .dataframe tbody tr th {\n",
       "        vertical-align: top;\n",
       "    }\n",
       "\n",
       "    .dataframe thead th {\n",
       "        text-align: right;\n",
       "    }\n",
       "</style>\n",
       "<table border=\"1\" class=\"dataframe\">\n",
       "  <thead>\n",
       "    <tr style=\"text-align: right;\">\n",
       "      <th></th>\n",
       "      <th>company_name</th>\n",
       "      <th>country</th>\n",
       "      <th>assets</th>\n",
       "      <th>date</th>\n",
       "      <th>price</th>\n",
       "      <th>sector</th>\n",
       "      <th>operating</th>\n",
       "      <th>debt_to_assets</th>\n",
       "      <th>age</th>\n",
       "    </tr>\n",
       "  </thead>\n",
       "  <tbody>\n",
       "    <tr>\n",
       "      <th>0</th>\n",
       "      <td>adidas</td>\n",
       "      <td>germany</td>\n",
       "      <td>15176.0</td>\n",
       "      <td>2016-01-04T00:00:00.000Z</td>\n",
       "      <td>87.730</td>\n",
       "      <td>consumer discretionary</td>\n",
       "      <td>7.73</td>\n",
       "      <td>10.66</td>\n",
       "      <td>66</td>\n",
       "    </tr>\n",
       "    <tr>\n",
       "      <th>1</th>\n",
       "      <td>adidas</td>\n",
       "      <td>germany</td>\n",
       "      <td>15176.0</td>\n",
       "      <td>2016-01-05T00:00:00.000Z</td>\n",
       "      <td>87.212</td>\n",
       "      <td>consumer discretionary</td>\n",
       "      <td>7.73</td>\n",
       "      <td>10.66</td>\n",
       "      <td>66</td>\n",
       "    </tr>\n",
       "    <tr>\n",
       "      <th>2</th>\n",
       "      <td>adidas</td>\n",
       "      <td>germany</td>\n",
       "      <td>15176.0</td>\n",
       "      <td>2016-01-06T00:00:00.000Z</td>\n",
       "      <td>86.070</td>\n",
       "      <td>consumer discretionary</td>\n",
       "      <td>7.73</td>\n",
       "      <td>10.66</td>\n",
       "      <td>66</td>\n",
       "    </tr>\n",
       "    <tr>\n",
       "      <th>3</th>\n",
       "      <td>adidas</td>\n",
       "      <td>germany</td>\n",
       "      <td>15176.0</td>\n",
       "      <td>2016-01-07T00:00:00.000Z</td>\n",
       "      <td>84.100</td>\n",
       "      <td>consumer discretionary</td>\n",
       "      <td>7.73</td>\n",
       "      <td>10.66</td>\n",
       "      <td>66</td>\n",
       "    </tr>\n",
       "    <tr>\n",
       "      <th>4</th>\n",
       "      <td>adidas</td>\n",
       "      <td>germany</td>\n",
       "      <td>15176.0</td>\n",
       "      <td>2016-01-08T00:00:00.000Z</td>\n",
       "      <td>82.510</td>\n",
       "      <td>consumer discretionary</td>\n",
       "      <td>7.73</td>\n",
       "      <td>10.66</td>\n",
       "      <td>66</td>\n",
       "    </tr>\n",
       "  </tbody>\n",
       "</table>\n",
       "</div>"
      ],
      "text/plain": [
       "  company_name  country   assets                      date   price  \\\n",
       "0       adidas  germany  15176.0  2016-01-04T00:00:00.000Z  87.730   \n",
       "1       adidas  germany  15176.0  2016-01-05T00:00:00.000Z  87.212   \n",
       "2       adidas  germany  15176.0  2016-01-06T00:00:00.000Z  86.070   \n",
       "3       adidas  germany  15176.0  2016-01-07T00:00:00.000Z  84.100   \n",
       "4       adidas  germany  15176.0  2016-01-08T00:00:00.000Z  82.510   \n",
       "\n",
       "                   sector  operating  debt_to_assets  age  \n",
       "0  consumer discretionary       7.73           10.66   66  \n",
       "1  consumer discretionary       7.73           10.66   66  \n",
       "2  consumer discretionary       7.73           10.66   66  \n",
       "3  consumer discretionary       7.73           10.66   66  \n",
       "4  consumer discretionary       7.73           10.66   66  "
      ]
     },
     "execution_count": 9,
     "metadata": {},
     "output_type": "execute_result"
    }
   ],
   "source": [
    "financial_short.head()"
   ]
  },
  {
   "cell_type": "code",
   "execution_count": 10,
   "metadata": {
    "ExecuteTime": {
     "end_time": "2020-10-27T17:49:08.440248Z",
     "start_time": "2020-10-27T17:49:07.143313Z"
    }
   },
   "outputs": [],
   "source": [
    "company_dict = {}\n",
    "for company in financial_short.company_name.unique():\n",
    "    company_dict[company] = len(financial_short[financial_short['company_name'] == company])"
   ]
  },
  {
   "cell_type": "code",
   "execution_count": 11,
   "metadata": {
    "ExecuteTime": {
     "end_time": "2020-10-27T17:49:08.446393Z",
     "start_time": "2020-10-27T17:49:08.441562Z"
    }
   },
   "outputs": [
    {
     "data": {
      "text/plain": [
       "array([257, 255, 253, 256])"
      ]
     },
     "execution_count": 11,
     "metadata": {},
     "output_type": "execute_result"
    }
   ],
   "source": [
    "pd.Series(company_dict.values()).unique()"
   ]
  },
  {
   "cell_type": "code",
   "execution_count": 12,
   "metadata": {
    "ExecuteTime": {
     "end_time": "2020-10-27T17:49:14.006641Z",
     "start_time": "2020-10-27T17:49:08.447887Z"
    }
   },
   "outputs": [
    {
     "data": {
      "text/plain": [
       "{'adidas': 257,\n",
       " 'allianz': 257,\n",
       " 'basf': 255,\n",
       " 'bmw': 255,\n",
       " 'continental': 255,\n",
       " 'daimler': 255,\n",
       " 'deutsche borse': 255,\n",
       " 'lufthansa': 255,\n",
       " 'deutsche post': 255,\n",
       " 'eon': 257,\n",
       " 'heidelberg cement': 255,\n",
       " 'henkel': 255,\n",
       " 'rwe': 255,\n",
       " 'siemens': 255,\n",
       " 'thyssenkrupp': 255,\n",
       " 'volkswagen ag': 255,\n",
       " 'vonovia': 255,\n",
       " 'elringklinger': 255,\n",
       " 'leoni ag': 255,\n",
       " 'cropenergies': 255,\n",
       " 'evonik industries': 255,\n",
       " 'fuchs petrolub': 255,\n",
       " 'lanxess': 255,\n",
       " 'wacker chemie': 255,\n",
       " 'alba se': 257,\n",
       " 'brenntag': 255,\n",
       " 'cewe stiftung': 255,\n",
       " 'indus holding': 257,\n",
       " 'kion group': 255,\n",
       " 'mtu': 255,\n",
       " 'osram': 255,\n",
       " 'wacker neuson': 255,\n",
       " 'fielmann': 255,\n",
       " 'hornbach holding': 255,\n",
       " 'hugo boss': 255,\n",
       " 'puma': 255,\n",
       " 'takkt': 255,\n",
       " 'aareal bank': 255,\n",
       " 'fraport ag': 255,\n",
       " 'hamburger hafrn logistik': 255,\n",
       " 'deutsche wohnen': 255,\n",
       " 'dic assets': 255,\n",
       " 'commerzbank': 255,\n",
       " 'hannover rueck': 255,\n",
       " 'suedzucker ag': 255,\n",
       " 'symrise ag': 255,\n",
       " 'aurubis': 255,\n",
       " 'talanx': 255,\n",
       " 'jkx oil and gas': 253,\n",
       " 'ophir energy': 253,\n",
       " 'petrofac': 253,\n",
       " 'socointernatinal plc': 253,\n",
       " 'tullow oil': 253,\n",
       " 'wood group': 253,\n",
       " 'james fisher and sons': 253,\n",
       " 'barrat developments plc': 253,\n",
       " 'bellway plc': 253,\n",
       " 'burberry group': 253,\n",
       " 'compass': 253,\n",
       " 'crest nicholson': 253,\n",
       " 'debenhams': 253,\n",
       " 'dignity': 253,\n",
       " \"domino's pizza group plc\": 253,\n",
       " 'greene king': 253,\n",
       " 'intercontinetal hotels group': 253,\n",
       " 'jd sports fashion': 253,\n",
       " 'marks and spencer group plc': 253,\n",
       " 'merlin enterteinments group': 253,\n",
       " 'n brown group plc': 253,\n",
       " 'next': 253,\n",
       " 'pearson': 253,\n",
       " 'persimmon': 253,\n",
       " 'sports direct international': 253,\n",
       " 'supergroup plc': 253,\n",
       " 'taylor wimpey plc': 253,\n",
       " 'ted baker': 253,\n",
       " 'thomas cook group': 253,\n",
       " 'wh smits': 253,\n",
       " 'wpp group': 253,\n",
       " 'aggreko': 253,\n",
       " 'ashtead group': 253,\n",
       " 'bae systems': 253,\n",
       " 'balfour beatty': 253,\n",
       " 'bba aviation': 253,\n",
       " 'cobham': 253,\n",
       " 'interserve plc': 253,\n",
       " 'kier group': 253,\n",
       " 'meggitt': 253,\n",
       " 'mitie group': 253,\n",
       " 'morgan advanced materials': 253,\n",
       " 'national express group': 253,\n",
       " 'rolls royce': 253,\n",
       " 'rotork plc': 253,\n",
       " 'royal mail group': 253,\n",
       " 'senior plc': 253,\n",
       " 'serco group': 253,\n",
       " 'stagecoach group': 253,\n",
       " 'travis perkins': 253,\n",
       " 'weir group': 253,\n",
       " 'british american tabacco': 253,\n",
       " 'britvic': 253,\n",
       " 'diageo ': 253,\n",
       " 'greggs': 253,\n",
       " 'sainsbury': 253,\n",
       " 'morrison supermarket': 253,\n",
       " 'tesco': 253,\n",
       " 'unilever': 253,\n",
       " 'aviva': 253,\n",
       " 'barclays': 253,\n",
       " 'city of london investment group': 253,\n",
       " 'hsbc holdings': 253,\n",
       " 'jupiter found management ': 253,\n",
       " 'lloyds banking group': 253,\n",
       " 'london stock exchange': 253,\n",
       " 'prudential': 253,\n",
       " 'royal bank of scotland group': 253,\n",
       " 'rsa insurance group': 253,\n",
       " 'segro': 253,\n",
       " 'centrica plc': 253,\n",
       " 'national grid': 253,\n",
       " 'pennon group': 253,\n",
       " 'severn trent': 253,\n",
       " 'united utilities': 253,\n",
       " 'acacia mining': 253,\n",
       " 'anglo american': 253,\n",
       " 'ds smith': 253,\n",
       " 'essentra': 253,\n",
       " 'johnson matthey': 253,\n",
       " 'mondi plc': 253,\n",
       " 'rpc group': 253,\n",
       " 'accorhotels': 257,\n",
       " 'adp aerports de paris': 257,\n",
       " 'air france': 257,\n",
       " 'air liquide': 257,\n",
       " 'bnp paribas': 257,\n",
       " 'bouygues': 257,\n",
       " 'carrefour': 257,\n",
       " 'danone': 257,\n",
       " 'engie': 257,\n",
       " 'kering': 257,\n",
       " \"l'oreal\": 257,\n",
       " 'legrand': 257,\n",
       " 'lvmh': 257,\n",
       " 'michelin ': 257,\n",
       " 'pernod ricard': 257,\n",
       " 'renault': 257,\n",
       " 'safran': 257,\n",
       " 'saaint gobain': 257,\n",
       " 'societe generale': 257,\n",
       " 'sodexo': 257,\n",
       " 'total': 257,\n",
       " 'valeo': 257,\n",
       " 'veolia': 257,\n",
       " 'vinci': 257,\n",
       " 'bonduelle': 257,\n",
       " 'bureau veritas': 257,\n",
       " 'groupe casino': 257,\n",
       " 'edf': 257,\n",
       " 'gecina': 257,\n",
       " 'groupe eurotunnel': 257,\n",
       " 'hermes international': 257,\n",
       " 'ipsos': 257,\n",
       " 'klepierre': 257,\n",
       " 'maurel et prom': 256,\n",
       " 'mersen': 256,\n",
       " 'nexans': 257,\n",
       " 'nexity': 257,\n",
       " 'plastic omnium': 257,\n",
       " 'rexel': 257,\n",
       " 'vallourec': 257}"
      ]
     },
     "execution_count": 12,
     "metadata": {},
     "output_type": "execute_result"
    }
   ],
   "source": [
    "company_dict"
   ]
  },
  {
   "cell_type": "code",
   "execution_count": 13,
   "metadata": {
    "ExecuteTime": {
     "end_time": "2020-10-27T17:49:14.288008Z",
     "start_time": "2020-10-27T17:49:14.008456Z"
    }
   },
   "outputs": [
    {
     "data": {
      "text/html": [
       "<div>\n",
       "<style scoped>\n",
       "    .dataframe tbody tr th:only-of-type {\n",
       "        vertical-align: middle;\n",
       "    }\n",
       "\n",
       "    .dataframe tbody tr th {\n",
       "        vertical-align: top;\n",
       "    }\n",
       "\n",
       "    .dataframe thead th {\n",
       "        text-align: right;\n",
       "    }\n",
       "</style>\n",
       "<table border=\"1\" class=\"dataframe\">\n",
       "  <thead>\n",
       "    <tr style=\"text-align: right;\">\n",
       "      <th></th>\n",
       "      <th>company_name</th>\n",
       "      <th>country</th>\n",
       "      <th>assets</th>\n",
       "      <th>date</th>\n",
       "      <th>price</th>\n",
       "      <th>sector</th>\n",
       "      <th>operating</th>\n",
       "      <th>debt_to_assets</th>\n",
       "      <th>age</th>\n",
       "    </tr>\n",
       "  </thead>\n",
       "  <tbody>\n",
       "    <tr>\n",
       "      <th>12250</th>\n",
       "      <td>jkx oil and gas</td>\n",
       "      <td>united kingdom</td>\n",
       "      <td>247.0</td>\n",
       "      <td>2016-01-04T00:00:00.000Z</td>\n",
       "      <td>0.37021</td>\n",
       "      <td>energy and materials</td>\n",
       "      <td>-46.48</td>\n",
       "      <td>6.79</td>\n",
       "      <td>23</td>\n",
       "    </tr>\n",
       "    <tr>\n",
       "      <th>12251</th>\n",
       "      <td>jkx oil and gas</td>\n",
       "      <td>united kingdom</td>\n",
       "      <td>247.0</td>\n",
       "      <td>2016-01-05T00:00:00.000Z</td>\n",
       "      <td>0.36498</td>\n",
       "      <td>energy and materials</td>\n",
       "      <td>-46.48</td>\n",
       "      <td>6.79</td>\n",
       "      <td>23</td>\n",
       "    </tr>\n",
       "    <tr>\n",
       "      <th>12252</th>\n",
       "      <td>jkx oil and gas</td>\n",
       "      <td>united kingdom</td>\n",
       "      <td>247.0</td>\n",
       "      <td>2016-01-06T00:00:00.000Z</td>\n",
       "      <td>0.36026</td>\n",
       "      <td>energy and materials</td>\n",
       "      <td>-46.48</td>\n",
       "      <td>6.79</td>\n",
       "      <td>23</td>\n",
       "    </tr>\n",
       "    <tr>\n",
       "      <th>12253</th>\n",
       "      <td>jkx oil and gas</td>\n",
       "      <td>united kingdom</td>\n",
       "      <td>247.0</td>\n",
       "      <td>2016-01-07T00:00:00.000Z</td>\n",
       "      <td>0.35588</td>\n",
       "      <td>energy and materials</td>\n",
       "      <td>-46.48</td>\n",
       "      <td>6.79</td>\n",
       "      <td>23</td>\n",
       "    </tr>\n",
       "    <tr>\n",
       "      <th>12254</th>\n",
       "      <td>jkx oil and gas</td>\n",
       "      <td>united kingdom</td>\n",
       "      <td>247.0</td>\n",
       "      <td>2016-01-08T00:00:00.000Z</td>\n",
       "      <td>0.35335</td>\n",
       "      <td>energy and materials</td>\n",
       "      <td>-46.48</td>\n",
       "      <td>6.79</td>\n",
       "      <td>23</td>\n",
       "    </tr>\n",
       "    <tr>\n",
       "      <th>...</th>\n",
       "      <td>...</td>\n",
       "      <td>...</td>\n",
       "      <td>...</td>\n",
       "      <td>...</td>\n",
       "      <td>...</td>\n",
       "      <td>...</td>\n",
       "      <td>...</td>\n",
       "      <td>...</td>\n",
       "      <td>...</td>\n",
       "    </tr>\n",
       "    <tr>\n",
       "      <th>32991</th>\n",
       "      <td>rpc group</td>\n",
       "      <td>united kingdom</td>\n",
       "      <td>3535.7</td>\n",
       "      <td>2016-12-22T00:00:00.000Z</td>\n",
       "      <td>11.44587</td>\n",
       "      <td>energy and materials</td>\n",
       "      <td>5.84</td>\n",
       "      <td>32.38</td>\n",
       "      <td>25</td>\n",
       "    </tr>\n",
       "    <tr>\n",
       "      <th>32992</th>\n",
       "      <td>rpc group</td>\n",
       "      <td>united kingdom</td>\n",
       "      <td>3535.7</td>\n",
       "      <td>2016-12-23T00:00:00.000Z</td>\n",
       "      <td>11.35659</td>\n",
       "      <td>energy and materials</td>\n",
       "      <td>5.84</td>\n",
       "      <td>32.38</td>\n",
       "      <td>25</td>\n",
       "    </tr>\n",
       "    <tr>\n",
       "      <th>32993</th>\n",
       "      <td>rpc group</td>\n",
       "      <td>united kingdom</td>\n",
       "      <td>3535.7</td>\n",
       "      <td>2016-12-28T00:00:00.000Z</td>\n",
       "      <td>11.79128</td>\n",
       "      <td>energy and materials</td>\n",
       "      <td>5.84</td>\n",
       "      <td>32.38</td>\n",
       "      <td>25</td>\n",
       "    </tr>\n",
       "    <tr>\n",
       "      <th>32994</th>\n",
       "      <td>rpc group</td>\n",
       "      <td>united kingdom</td>\n",
       "      <td>3535.7</td>\n",
       "      <td>2016-12-29T00:00:00.000Z</td>\n",
       "      <td>11.60407</td>\n",
       "      <td>energy and materials</td>\n",
       "      <td>5.84</td>\n",
       "      <td>32.38</td>\n",
       "      <td>25</td>\n",
       "    </tr>\n",
       "    <tr>\n",
       "      <th>32995</th>\n",
       "      <td>rpc group</td>\n",
       "      <td>united kingdom</td>\n",
       "      <td>3535.7</td>\n",
       "      <td>2016-12-30T00:00:00.000Z</td>\n",
       "      <td>11.63369</td>\n",
       "      <td>energy and materials</td>\n",
       "      <td>5.84</td>\n",
       "      <td>32.38</td>\n",
       "      <td>25</td>\n",
       "    </tr>\n",
       "  </tbody>\n",
       "</table>\n",
       "<p>20746 rows × 9 columns</p>\n",
       "</div>"
      ],
      "text/plain": [
       "          company_name         country  assets                      date  \\\n",
       "12250  jkx oil and gas  united kingdom   247.0  2016-01-04T00:00:00.000Z   \n",
       "12251  jkx oil and gas  united kingdom   247.0  2016-01-05T00:00:00.000Z   \n",
       "12252  jkx oil and gas  united kingdom   247.0  2016-01-06T00:00:00.000Z   \n",
       "12253  jkx oil and gas  united kingdom   247.0  2016-01-07T00:00:00.000Z   \n",
       "12254  jkx oil and gas  united kingdom   247.0  2016-01-08T00:00:00.000Z   \n",
       "...                ...             ...     ...                       ...   \n",
       "32991        rpc group  united kingdom  3535.7  2016-12-22T00:00:00.000Z   \n",
       "32992        rpc group  united kingdom  3535.7  2016-12-23T00:00:00.000Z   \n",
       "32993        rpc group  united kingdom  3535.7  2016-12-28T00:00:00.000Z   \n",
       "32994        rpc group  united kingdom  3535.7  2016-12-29T00:00:00.000Z   \n",
       "32995        rpc group  united kingdom  3535.7  2016-12-30T00:00:00.000Z   \n",
       "\n",
       "          price                sector  operating  debt_to_assets  age  \n",
       "12250   0.37021  energy and materials     -46.48            6.79   23  \n",
       "12251   0.36498  energy and materials     -46.48            6.79   23  \n",
       "12252   0.36026  energy and materials     -46.48            6.79   23  \n",
       "12253   0.35588  energy and materials     -46.48            6.79   23  \n",
       "12254   0.35335  energy and materials     -46.48            6.79   23  \n",
       "...         ...                   ...        ...             ...  ...  \n",
       "32991  11.44587  energy and materials       5.84           32.38   25  \n",
       "32992  11.35659  energy and materials       5.84           32.38   25  \n",
       "32993  11.79128  energy and materials       5.84           32.38   25  \n",
       "32994  11.60407  energy and materials       5.84           32.38   25  \n",
       "32995  11.63369  energy and materials       5.84           32.38   25  \n",
       "\n",
       "[20746 rows x 9 columns]"
      ]
     },
     "execution_count": 13,
     "metadata": {},
     "output_type": "execute_result"
    }
   ],
   "source": [
    "comp_with_253 = [key for key, values in company_dict.items() if values == 253]\n",
    "financial_short[financial_short['company_name'].isin(comp_with_253)]"
   ]
  },
  {
   "cell_type": "code",
   "execution_count": 14,
   "metadata": {
    "ExecuteTime": {
     "end_time": "2020-10-27T17:49:14.352341Z",
     "start_time": "2020-10-27T17:49:14.289289Z"
    }
   },
   "outputs": [
    {
     "data": {
      "text/html": [
       "<div>\n",
       "<style scoped>\n",
       "    .dataframe tbody tr th:only-of-type {\n",
       "        vertical-align: middle;\n",
       "    }\n",
       "\n",
       "    .dataframe tbody tr th {\n",
       "        vertical-align: top;\n",
       "    }\n",
       "\n",
       "    .dataframe thead th {\n",
       "        text-align: right;\n",
       "    }\n",
       "</style>\n",
       "<table border=\"1\" class=\"dataframe\">\n",
       "  <thead>\n",
       "    <tr style=\"text-align: right;\">\n",
       "      <th></th>\n",
       "      <th>company_name</th>\n",
       "      <th>country</th>\n",
       "      <th>assets</th>\n",
       "      <th>date</th>\n",
       "      <th>price</th>\n",
       "      <th>sector</th>\n",
       "      <th>operating</th>\n",
       "      <th>debt_to_assets</th>\n",
       "      <th>age</th>\n",
       "    </tr>\n",
       "  </thead>\n",
       "  <tbody>\n",
       "    <tr>\n",
       "      <th>514</th>\n",
       "      <td>basf</td>\n",
       "      <td>germany</td>\n",
       "      <td>76496.0</td>\n",
       "      <td>2016-01-04T00:00:00.000Z</td>\n",
       "      <td>67.580</td>\n",
       "      <td>energy and materials</td>\n",
       "      <td>11.17</td>\n",
       "      <td>21.32</td>\n",
       "      <td>151</td>\n",
       "    </tr>\n",
       "    <tr>\n",
       "      <th>515</th>\n",
       "      <td>basf</td>\n",
       "      <td>germany</td>\n",
       "      <td>76496.0</td>\n",
       "      <td>2016-01-05T00:00:00.000Z</td>\n",
       "      <td>67.200</td>\n",
       "      <td>energy and materials</td>\n",
       "      <td>11.17</td>\n",
       "      <td>21.32</td>\n",
       "      <td>151</td>\n",
       "    </tr>\n",
       "    <tr>\n",
       "      <th>516</th>\n",
       "      <td>basf</td>\n",
       "      <td>germany</td>\n",
       "      <td>76496.0</td>\n",
       "      <td>2016-01-06T00:00:00.000Z</td>\n",
       "      <td>66.080</td>\n",
       "      <td>energy and materials</td>\n",
       "      <td>11.17</td>\n",
       "      <td>21.32</td>\n",
       "      <td>151</td>\n",
       "    </tr>\n",
       "    <tr>\n",
       "      <th>517</th>\n",
       "      <td>basf</td>\n",
       "      <td>germany</td>\n",
       "      <td>76496.0</td>\n",
       "      <td>2016-01-07T00:00:00.000Z</td>\n",
       "      <td>64.470</td>\n",
       "      <td>energy and materials</td>\n",
       "      <td>11.17</td>\n",
       "      <td>21.32</td>\n",
       "      <td>151</td>\n",
       "    </tr>\n",
       "    <tr>\n",
       "      <th>518</th>\n",
       "      <td>basf</td>\n",
       "      <td>germany</td>\n",
       "      <td>76496.0</td>\n",
       "      <td>2016-01-08T00:00:00.000Z</td>\n",
       "      <td>63.680</td>\n",
       "      <td>energy and materials</td>\n",
       "      <td>11.17</td>\n",
       "      <td>21.32</td>\n",
       "      <td>151</td>\n",
       "    </tr>\n",
       "    <tr>\n",
       "      <th>...</th>\n",
       "      <td>...</td>\n",
       "      <td>...</td>\n",
       "      <td>...</td>\n",
       "      <td>...</td>\n",
       "      <td>...</td>\n",
       "      <td>...</td>\n",
       "      <td>...</td>\n",
       "      <td>...</td>\n",
       "      <td>...</td>\n",
       "    </tr>\n",
       "    <tr>\n",
       "      <th>12245</th>\n",
       "      <td>talanx</td>\n",
       "      <td>germany</td>\n",
       "      <td>156626.0</td>\n",
       "      <td>2016-12-23T00:00:00.000Z</td>\n",
       "      <td>31.965</td>\n",
       "      <td>financials</td>\n",
       "      <td>7.35</td>\n",
       "      <td>2.23</td>\n",
       "      <td>20</td>\n",
       "    </tr>\n",
       "    <tr>\n",
       "      <th>12246</th>\n",
       "      <td>talanx</td>\n",
       "      <td>germany</td>\n",
       "      <td>156626.0</td>\n",
       "      <td>2016-12-27T00:00:00.000Z</td>\n",
       "      <td>32.050</td>\n",
       "      <td>financials</td>\n",
       "      <td>7.35</td>\n",
       "      <td>2.23</td>\n",
       "      <td>20</td>\n",
       "    </tr>\n",
       "    <tr>\n",
       "      <th>12247</th>\n",
       "      <td>talanx</td>\n",
       "      <td>germany</td>\n",
       "      <td>156626.0</td>\n",
       "      <td>2016-12-28T00:00:00.000Z</td>\n",
       "      <td>31.910</td>\n",
       "      <td>financials</td>\n",
       "      <td>7.35</td>\n",
       "      <td>2.23</td>\n",
       "      <td>20</td>\n",
       "    </tr>\n",
       "    <tr>\n",
       "      <th>12248</th>\n",
       "      <td>talanx</td>\n",
       "      <td>germany</td>\n",
       "      <td>156626.0</td>\n",
       "      <td>2016-12-29T00:00:00.000Z</td>\n",
       "      <td>31.900</td>\n",
       "      <td>financials</td>\n",
       "      <td>7.35</td>\n",
       "      <td>2.23</td>\n",
       "      <td>20</td>\n",
       "    </tr>\n",
       "    <tr>\n",
       "      <th>12249</th>\n",
       "      <td>talanx</td>\n",
       "      <td>germany</td>\n",
       "      <td>156626.0</td>\n",
       "      <td>2016-12-30T00:00:00.000Z</td>\n",
       "      <td>31.770</td>\n",
       "      <td>financials</td>\n",
       "      <td>7.35</td>\n",
       "      <td>2.23</td>\n",
       "      <td>20</td>\n",
       "    </tr>\n",
       "  </tbody>\n",
       "</table>\n",
       "<p>10965 rows × 9 columns</p>\n",
       "</div>"
      ],
      "text/plain": [
       "      company_name  country    assets                      date   price  \\\n",
       "514           basf  germany   76496.0  2016-01-04T00:00:00.000Z  67.580   \n",
       "515           basf  germany   76496.0  2016-01-05T00:00:00.000Z  67.200   \n",
       "516           basf  germany   76496.0  2016-01-06T00:00:00.000Z  66.080   \n",
       "517           basf  germany   76496.0  2016-01-07T00:00:00.000Z  64.470   \n",
       "518           basf  germany   76496.0  2016-01-08T00:00:00.000Z  63.680   \n",
       "...            ...      ...       ...                       ...     ...   \n",
       "12245       talanx  germany  156626.0  2016-12-23T00:00:00.000Z  31.965   \n",
       "12246       talanx  germany  156626.0  2016-12-27T00:00:00.000Z  32.050   \n",
       "12247       talanx  germany  156626.0  2016-12-28T00:00:00.000Z  31.910   \n",
       "12248       talanx  germany  156626.0  2016-12-29T00:00:00.000Z  31.900   \n",
       "12249       talanx  germany  156626.0  2016-12-30T00:00:00.000Z  31.770   \n",
       "\n",
       "                     sector  operating  debt_to_assets  age  \n",
       "514    energy and materials      11.17           21.32  151  \n",
       "515    energy and materials      11.17           21.32  151  \n",
       "516    energy and materials      11.17           21.32  151  \n",
       "517    energy and materials      11.17           21.32  151  \n",
       "518    energy and materials      11.17           21.32  151  \n",
       "...                     ...        ...             ...  ...  \n",
       "12245            financials       7.35            2.23   20  \n",
       "12246            financials       7.35            2.23   20  \n",
       "12247            financials       7.35            2.23   20  \n",
       "12248            financials       7.35            2.23   20  \n",
       "12249            financials       7.35            2.23   20  \n",
       "\n",
       "[10965 rows x 9 columns]"
      ]
     },
     "execution_count": 14,
     "metadata": {},
     "output_type": "execute_result"
    }
   ],
   "source": [
    "comp_with_255 = [key for key, values in company_dict.items() if values == 255]\n",
    "financial_short[financial_short['company_name'].isin(comp_with_255)]"
   ]
  },
  {
   "cell_type": "code",
   "execution_count": 15,
   "metadata": {
    "ExecuteTime": {
     "end_time": "2020-10-27T17:49:14.385403Z",
     "start_time": "2020-10-27T17:49:14.353953Z"
    }
   },
   "outputs": [
    {
     "data": {
      "text/html": [
       "<div>\n",
       "<style scoped>\n",
       "    .dataframe tbody tr th:only-of-type {\n",
       "        vertical-align: middle;\n",
       "    }\n",
       "\n",
       "    .dataframe tbody tr th {\n",
       "        vertical-align: top;\n",
       "    }\n",
       "\n",
       "    .dataframe thead th {\n",
       "        text-align: right;\n",
       "    }\n",
       "</style>\n",
       "<table border=\"1\" class=\"dataframe\">\n",
       "  <thead>\n",
       "    <tr style=\"text-align: right;\">\n",
       "      <th></th>\n",
       "      <th>company_name</th>\n",
       "      <th>country</th>\n",
       "      <th>assets</th>\n",
       "      <th>date</th>\n",
       "      <th>price</th>\n",
       "      <th>sector</th>\n",
       "      <th>operating</th>\n",
       "      <th>debt_to_assets</th>\n",
       "      <th>age</th>\n",
       "    </tr>\n",
       "  </thead>\n",
       "  <tbody>\n",
       "    <tr>\n",
       "      <th>41477</th>\n",
       "      <td>maurel et prom</td>\n",
       "      <td>france</td>\n",
       "      <td>2396.4</td>\n",
       "      <td>2016-01-04T00:00:00.000Z</td>\n",
       "      <td>2.95</td>\n",
       "      <td>energy and materials</td>\n",
       "      <td>5.27</td>\n",
       "      <td>30.50</td>\n",
       "      <td>175</td>\n",
       "    </tr>\n",
       "    <tr>\n",
       "      <th>41478</th>\n",
       "      <td>maurel et prom</td>\n",
       "      <td>france</td>\n",
       "      <td>2396.4</td>\n",
       "      <td>2016-01-05T00:00:00.000Z</td>\n",
       "      <td>2.88</td>\n",
       "      <td>energy and materials</td>\n",
       "      <td>5.27</td>\n",
       "      <td>30.50</td>\n",
       "      <td>175</td>\n",
       "    </tr>\n",
       "    <tr>\n",
       "      <th>41479</th>\n",
       "      <td>maurel et prom</td>\n",
       "      <td>france</td>\n",
       "      <td>2396.4</td>\n",
       "      <td>2016-01-06T00:00:00.000Z</td>\n",
       "      <td>2.76</td>\n",
       "      <td>energy and materials</td>\n",
       "      <td>5.27</td>\n",
       "      <td>30.50</td>\n",
       "      <td>175</td>\n",
       "    </tr>\n",
       "    <tr>\n",
       "      <th>41480</th>\n",
       "      <td>maurel et prom</td>\n",
       "      <td>france</td>\n",
       "      <td>2396.4</td>\n",
       "      <td>2016-01-07T00:00:00.000Z</td>\n",
       "      <td>2.63</td>\n",
       "      <td>energy and materials</td>\n",
       "      <td>5.27</td>\n",
       "      <td>30.50</td>\n",
       "      <td>175</td>\n",
       "    </tr>\n",
       "    <tr>\n",
       "      <th>41481</th>\n",
       "      <td>maurel et prom</td>\n",
       "      <td>france</td>\n",
       "      <td>2396.4</td>\n",
       "      <td>2016-01-08T00:00:00.000Z</td>\n",
       "      <td>2.51</td>\n",
       "      <td>energy and materials</td>\n",
       "      <td>5.27</td>\n",
       "      <td>30.50</td>\n",
       "      <td>175</td>\n",
       "    </tr>\n",
       "    <tr>\n",
       "      <th>...</th>\n",
       "      <td>...</td>\n",
       "      <td>...</td>\n",
       "      <td>...</td>\n",
       "      <td>...</td>\n",
       "      <td>...</td>\n",
       "      <td>...</td>\n",
       "      <td>...</td>\n",
       "      <td>...</td>\n",
       "      <td>...</td>\n",
       "    </tr>\n",
       "    <tr>\n",
       "      <th>41984</th>\n",
       "      <td>mersen</td>\n",
       "      <td>france</td>\n",
       "      <td>1001.2</td>\n",
       "      <td>2016-12-22T00:00:00.000Z</td>\n",
       "      <td>19.42</td>\n",
       "      <td>industrials</td>\n",
       "      <td>4.06</td>\n",
       "      <td>23.77</td>\n",
       "      <td>79</td>\n",
       "    </tr>\n",
       "    <tr>\n",
       "      <th>41985</th>\n",
       "      <td>mersen</td>\n",
       "      <td>france</td>\n",
       "      <td>1001.2</td>\n",
       "      <td>2016-12-23T00:00:00.000Z</td>\n",
       "      <td>19.74</td>\n",
       "      <td>industrials</td>\n",
       "      <td>4.06</td>\n",
       "      <td>23.77</td>\n",
       "      <td>79</td>\n",
       "    </tr>\n",
       "    <tr>\n",
       "      <th>41986</th>\n",
       "      <td>mersen</td>\n",
       "      <td>france</td>\n",
       "      <td>1001.2</td>\n",
       "      <td>2016-12-27T00:00:00.000Z</td>\n",
       "      <td>20.20</td>\n",
       "      <td>industrials</td>\n",
       "      <td>4.06</td>\n",
       "      <td>23.77</td>\n",
       "      <td>79</td>\n",
       "    </tr>\n",
       "    <tr>\n",
       "      <th>41987</th>\n",
       "      <td>mersen</td>\n",
       "      <td>france</td>\n",
       "      <td>1001.2</td>\n",
       "      <td>2016-12-28T00:00:00.000Z</td>\n",
       "      <td>20.30</td>\n",
       "      <td>industrials</td>\n",
       "      <td>4.06</td>\n",
       "      <td>23.77</td>\n",
       "      <td>79</td>\n",
       "    </tr>\n",
       "    <tr>\n",
       "      <th>41988</th>\n",
       "      <td>mersen</td>\n",
       "      <td>france</td>\n",
       "      <td>1001.2</td>\n",
       "      <td>2016-12-29T00:00:00.000Z</td>\n",
       "      <td>20.30</td>\n",
       "      <td>industrials</td>\n",
       "      <td>4.06</td>\n",
       "      <td>23.77</td>\n",
       "      <td>79</td>\n",
       "    </tr>\n",
       "  </tbody>\n",
       "</table>\n",
       "<p>512 rows × 9 columns</p>\n",
       "</div>"
      ],
      "text/plain": [
       "         company_name country  assets                      date  price  \\\n",
       "41477  maurel et prom  france  2396.4  2016-01-04T00:00:00.000Z   2.95   \n",
       "41478  maurel et prom  france  2396.4  2016-01-05T00:00:00.000Z   2.88   \n",
       "41479  maurel et prom  france  2396.4  2016-01-06T00:00:00.000Z   2.76   \n",
       "41480  maurel et prom  france  2396.4  2016-01-07T00:00:00.000Z   2.63   \n",
       "41481  maurel et prom  france  2396.4  2016-01-08T00:00:00.000Z   2.51   \n",
       "...               ...     ...     ...                       ...    ...   \n",
       "41984          mersen  france  1001.2  2016-12-22T00:00:00.000Z  19.42   \n",
       "41985          mersen  france  1001.2  2016-12-23T00:00:00.000Z  19.74   \n",
       "41986          mersen  france  1001.2  2016-12-27T00:00:00.000Z  20.20   \n",
       "41987          mersen  france  1001.2  2016-12-28T00:00:00.000Z  20.30   \n",
       "41988          mersen  france  1001.2  2016-12-29T00:00:00.000Z  20.30   \n",
       "\n",
       "                     sector  operating  debt_to_assets  age  \n",
       "41477  energy and materials       5.27           30.50  175  \n",
       "41478  energy and materials       5.27           30.50  175  \n",
       "41479  energy and materials       5.27           30.50  175  \n",
       "41480  energy and materials       5.27           30.50  175  \n",
       "41481  energy and materials       5.27           30.50  175  \n",
       "...                     ...        ...             ...  ...  \n",
       "41984           industrials       4.06           23.77   79  \n",
       "41985           industrials       4.06           23.77   79  \n",
       "41986           industrials       4.06           23.77   79  \n",
       "41987           industrials       4.06           23.77   79  \n",
       "41988           industrials       4.06           23.77   79  \n",
       "\n",
       "[512 rows x 9 columns]"
      ]
     },
     "execution_count": 15,
     "metadata": {},
     "output_type": "execute_result"
    }
   ],
   "source": [
    "comp_with_256 = [key for key, values in company_dict.items() if values == 256]\n",
    "financial_short[financial_short['company_name'].isin(comp_with_256)]"
   ]
  },
  {
   "cell_type": "code",
   "execution_count": 16,
   "metadata": {
    "ExecuteTime": {
     "end_time": "2020-10-27T17:49:14.418786Z",
     "start_time": "2020-10-27T17:49:14.386733Z"
    }
   },
   "outputs": [
    {
     "data": {
      "text/plain": [
       "company_name\n",
       "accorhotels               [france]\n",
       "adidas                   [germany]\n",
       "adp aerports de paris     [france]\n",
       "air france                [france]\n",
       "air liquide               [france]\n",
       "alba se                  [germany]\n",
       "allianz                  [germany]\n",
       "bnp paribas               [france]\n",
       "bonduelle                 [france]\n",
       "bouygues                  [france]\n",
       "bureau veritas            [france]\n",
       "carrefour                 [france]\n",
       "danone                    [france]\n",
       "edf                       [france]\n",
       "engie                     [france]\n",
       "eon                      [germany]\n",
       "gecina                    [france]\n",
       "groupe casino             [france]\n",
       "groupe eurotunnel         [france]\n",
       "hermes international      [france]\n",
       "indus holding            [germany]\n",
       "ipsos                     [france]\n",
       "kering                    [france]\n",
       "klepierre                 [france]\n",
       "l'oreal                   [france]\n",
       "legrand                   [france]\n",
       "lvmh                      [france]\n",
       "michelin                  [france]\n",
       "nexans                    [france]\n",
       "nexity                    [france]\n",
       "pernod ricard             [france]\n",
       "plastic omnium            [france]\n",
       "renault                   [france]\n",
       "rexel                     [france]\n",
       "saaint gobain             [france]\n",
       "safran                    [france]\n",
       "societe generale          [france]\n",
       "sodexo                    [france]\n",
       "total                     [france]\n",
       "valeo                     [france]\n",
       "vallourec                 [france]\n",
       "veolia                    [france]\n",
       "vinci                     [france]\n",
       "Name: country, dtype: object"
      ]
     },
     "execution_count": 16,
     "metadata": {},
     "output_type": "execute_result"
    }
   ],
   "source": [
    "comp_with_257 = [key for key, values in company_dict.items() if values == 257]\n",
    "financial_short[financial_short['company_name'].isin(comp_with_257)].groupby('company_name')['country'].agg('unique')"
   ]
  },
  {
   "cell_type": "markdown",
   "metadata": {},
   "source": [
    "Companies that exist in `financial_long` but not in `financial_short`  "
   ]
  },
  {
   "cell_type": "code",
   "execution_count": 17,
   "metadata": {
    "ExecuteTime": {
     "end_time": "2020-10-27T17:49:14.435231Z",
     "start_time": "2020-10-27T17:49:14.420116Z"
    }
   },
   "outputs": [
    {
     "data": {
      "text/plain": [
       "{'axa group',\n",
       " 'baywa munich',\n",
       " 'beiersdorf',\n",
       " 'euromoney insttutional investors plc',\n",
       " 'faurecia',\n",
       " 'king fisher',\n",
       " 'munich re',\n",
       " 'rekitt benckise',\n",
       " 'rightmove',\n",
       " 'schneider electric',\n",
       " 'sse plc',\n",
       " 'victrex group'}"
      ]
     },
     "execution_count": 17,
     "metadata": {},
     "output_type": "execute_result"
    }
   ],
   "source": [
    "set(financial_long.company_name.unique()) - set(financial_short.company_name.unique())"
   ]
  },
  {
   "cell_type": "markdown",
   "metadata": {},
   "source": [
    "Companies that exist in `financial_short` but not in `financial_long`"
   ]
  },
  {
   "cell_type": "code",
   "execution_count": 18,
   "metadata": {
    "ExecuteTime": {
     "end_time": "2020-10-27T17:49:14.449450Z",
     "start_time": "2020-10-27T17:49:14.436399Z"
    }
   },
   "outputs": [
    {
     "data": {
      "text/plain": [
       "{'leoni ag'}"
      ]
     },
     "execution_count": 18,
     "metadata": {},
     "output_type": "execute_result"
    }
   ],
   "source": [
    "set(financial_short.company_name.unique()) - set(financial_long.company_name.unique())"
   ]
  },
  {
   "cell_type": "code",
   "execution_count": 19,
   "metadata": {
    "ExecuteTime": {
     "end_time": "2020-10-27T17:49:14.483820Z",
     "start_time": "2020-10-27T17:49:14.450871Z"
    }
   },
   "outputs": [
    {
     "data": {
      "text/plain": [
       "company_name       object\n",
       "country            object\n",
       "assets            float64\n",
       "price             float64\n",
       "sector             object\n",
       "operating         float64\n",
       "debt_to_assets    float64\n",
       "age                 int64\n",
       "date               object\n",
       "dtype: object"
      ]
     },
     "execution_count": 19,
     "metadata": {},
     "output_type": "execute_result"
    }
   ],
   "source": [
    "financial_long.dtypes"
   ]
  },
  {
   "cell_type": "markdown",
   "metadata": {},
   "source": [
    "## Transform date column into datetime format"
   ]
  },
  {
   "cell_type": "code",
   "execution_count": 32,
   "metadata": {
    "ExecuteTime": {
     "end_time": "2020-10-27T17:53:46.687765Z",
     "start_time": "2020-10-27T17:53:46.295770Z"
    }
   },
   "outputs": [],
   "source": [
    "# transform date series into datetime format\n",
    "date = pd.to_datetime(financial_long['date'])\n",
    "# set the format to Year-Month-Date\n",
    "financial_long.loc[:, 'date'] = date.dt.strftime('%Y-%m-%d')\n",
    "\n",
    "# decompose date column\n",
    "financial_long.loc[:, 'year'] = date.dt.strftime('%Y')\n",
    "financial_long.loc[:, 'month'] = date.dt.strftime('%m')\n",
    "financial_long.loc[:, 'day'] = date.dt.strftime('%d')"
   ]
  },
  {
   "cell_type": "code",
   "execution_count": 34,
   "metadata": {
    "ExecuteTime": {
     "end_time": "2020-10-27T17:54:44.079623Z",
     "start_time": "2020-10-27T17:54:42.551391Z"
    }
   },
   "outputs": [],
   "source": [
    "# transform date series into datetime format\n",
    "date = pd.to_datetime(financial_short['date'])\n",
    "# set the format to Year-Month-Date\n",
    "financial_short.loc[:, 'date'] = date.dt.strftime('%Y-%m-%d')\n",
    "\n",
    "# decompose date column\n",
    "financial_short.loc[:, 'year'] = date.dt.strftime('%Y')\n",
    "financial_short.loc[:, 'month'] = date.dt.strftime('%m')\n",
    "financial_short.loc[:, 'day'] = date.dt.strftime('%d')\n"
   ]
  },
  {
   "cell_type": "markdown",
   "metadata": {},
   "source": [
    "## Rearrange columns"
   ]
  },
  {
   "cell_type": "markdown",
   "metadata": {},
   "source": [
    "The columns orders are not the same so we decided to rearrange the columns"
   ]
  },
  {
   "cell_type": "code",
   "execution_count": 22,
   "metadata": {
    "ExecuteTime": {
     "end_time": "2020-10-27T17:49:15.056321Z",
     "start_time": "2020-10-27T17:49:15.049495Z"
    }
   },
   "outputs": [],
   "source": [
    "financial_short = financial_short[financial_long.columns]"
   ]
  },
  {
   "cell_type": "code",
   "execution_count": 35,
   "metadata": {
    "ExecuteTime": {
     "end_time": "2020-10-27T17:56:34.794919Z",
     "start_time": "2020-10-27T17:56:34.774110Z"
    }
   },
   "outputs": [
    {
     "data": {
      "text/html": [
       "<div>\n",
       "<style scoped>\n",
       "    .dataframe tbody tr th:only-of-type {\n",
       "        vertical-align: middle;\n",
       "    }\n",
       "\n",
       "    .dataframe tbody tr th {\n",
       "        vertical-align: top;\n",
       "    }\n",
       "\n",
       "    .dataframe thead th {\n",
       "        text-align: right;\n",
       "    }\n",
       "</style>\n",
       "<table border=\"1\" class=\"dataframe\">\n",
       "  <thead>\n",
       "    <tr style=\"text-align: right;\">\n",
       "      <th></th>\n",
       "      <th>company_name</th>\n",
       "      <th>country</th>\n",
       "      <th>assets</th>\n",
       "      <th>price</th>\n",
       "      <th>sector</th>\n",
       "      <th>operating</th>\n",
       "      <th>debt_to_assets</th>\n",
       "      <th>age</th>\n",
       "      <th>date</th>\n",
       "      <th>year</th>\n",
       "      <th>month</th>\n",
       "      <th>day</th>\n",
       "    </tr>\n",
       "  </thead>\n",
       "  <tbody>\n",
       "    <tr>\n",
       "      <th>0</th>\n",
       "      <td>adidas</td>\n",
       "      <td>germany</td>\n",
       "      <td>15176.0</td>\n",
       "      <td>87.730</td>\n",
       "      <td>consumer discretionary</td>\n",
       "      <td>7.73</td>\n",
       "      <td>10.66</td>\n",
       "      <td>66</td>\n",
       "      <td>2016-01-04</td>\n",
       "      <td>2016</td>\n",
       "      <td>01</td>\n",
       "      <td>04</td>\n",
       "    </tr>\n",
       "    <tr>\n",
       "      <th>1</th>\n",
       "      <td>adidas</td>\n",
       "      <td>germany</td>\n",
       "      <td>15176.0</td>\n",
       "      <td>87.212</td>\n",
       "      <td>consumer discretionary</td>\n",
       "      <td>7.73</td>\n",
       "      <td>10.66</td>\n",
       "      <td>66</td>\n",
       "      <td>2016-01-05</td>\n",
       "      <td>2016</td>\n",
       "      <td>01</td>\n",
       "      <td>05</td>\n",
       "    </tr>\n",
       "    <tr>\n",
       "      <th>2</th>\n",
       "      <td>adidas</td>\n",
       "      <td>germany</td>\n",
       "      <td>15176.0</td>\n",
       "      <td>86.070</td>\n",
       "      <td>consumer discretionary</td>\n",
       "      <td>7.73</td>\n",
       "      <td>10.66</td>\n",
       "      <td>66</td>\n",
       "      <td>2016-01-06</td>\n",
       "      <td>2016</td>\n",
       "      <td>01</td>\n",
       "      <td>06</td>\n",
       "    </tr>\n",
       "    <tr>\n",
       "      <th>3</th>\n",
       "      <td>adidas</td>\n",
       "      <td>germany</td>\n",
       "      <td>15176.0</td>\n",
       "      <td>84.100</td>\n",
       "      <td>consumer discretionary</td>\n",
       "      <td>7.73</td>\n",
       "      <td>10.66</td>\n",
       "      <td>66</td>\n",
       "      <td>2016-01-07</td>\n",
       "      <td>2016</td>\n",
       "      <td>01</td>\n",
       "      <td>07</td>\n",
       "    </tr>\n",
       "    <tr>\n",
       "      <th>4</th>\n",
       "      <td>adidas</td>\n",
       "      <td>germany</td>\n",
       "      <td>15176.0</td>\n",
       "      <td>82.510</td>\n",
       "      <td>consumer discretionary</td>\n",
       "      <td>7.73</td>\n",
       "      <td>10.66</td>\n",
       "      <td>66</td>\n",
       "      <td>2016-01-08</td>\n",
       "      <td>2016</td>\n",
       "      <td>01</td>\n",
       "      <td>08</td>\n",
       "    </tr>\n",
       "  </tbody>\n",
       "</table>\n",
       "</div>"
      ],
      "text/plain": [
       "  company_name  country   assets   price                  sector  operating  \\\n",
       "0       adidas  germany  15176.0  87.730  consumer discretionary       7.73   \n",
       "1       adidas  germany  15176.0  87.212  consumer discretionary       7.73   \n",
       "2       adidas  germany  15176.0  86.070  consumer discretionary       7.73   \n",
       "3       adidas  germany  15176.0  84.100  consumer discretionary       7.73   \n",
       "4       adidas  germany  15176.0  82.510  consumer discretionary       7.73   \n",
       "\n",
       "   debt_to_assets  age        date  year month day  \n",
       "0           10.66   66  2016-01-04  2016    01  04  \n",
       "1           10.66   66  2016-01-05  2016    01  05  \n",
       "2           10.66   66  2016-01-06  2016    01  06  \n",
       "3           10.66   66  2016-01-07  2016    01  07  \n",
       "4           10.66   66  2016-01-08  2016    01  08  "
      ]
     },
     "execution_count": 35,
     "metadata": {},
     "output_type": "execute_result"
    }
   ],
   "source": [
    "financial_short.head()"
   ]
  },
  {
   "cell_type": "code",
   "execution_count": 36,
   "metadata": {
    "ExecuteTime": {
     "end_time": "2020-10-27T17:56:42.789043Z",
     "start_time": "2020-10-27T17:56:42.771074Z"
    }
   },
   "outputs": [
    {
     "data": {
      "text/html": [
       "<div>\n",
       "<style scoped>\n",
       "    .dataframe tbody tr th:only-of-type {\n",
       "        vertical-align: middle;\n",
       "    }\n",
       "\n",
       "    .dataframe tbody tr th {\n",
       "        vertical-align: top;\n",
       "    }\n",
       "\n",
       "    .dataframe thead th {\n",
       "        text-align: right;\n",
       "    }\n",
       "</style>\n",
       "<table border=\"1\" class=\"dataframe\">\n",
       "  <thead>\n",
       "    <tr style=\"text-align: right;\">\n",
       "      <th></th>\n",
       "      <th>company_name</th>\n",
       "      <th>country</th>\n",
       "      <th>assets</th>\n",
       "      <th>price</th>\n",
       "      <th>sector</th>\n",
       "      <th>operating</th>\n",
       "      <th>debt_to_assets</th>\n",
       "      <th>age</th>\n",
       "      <th>date</th>\n",
       "      <th>year</th>\n",
       "      <th>month</th>\n",
       "      <th>day</th>\n",
       "    </tr>\n",
       "  </thead>\n",
       "  <tbody>\n",
       "    <tr>\n",
       "      <th>0</th>\n",
       "      <td>adidas</td>\n",
       "      <td>germany</td>\n",
       "      <td>12417.0</td>\n",
       "      <td>82.91</td>\n",
       "      <td>consumer discretionary</td>\n",
       "      <td>6.08</td>\n",
       "      <td>15.08</td>\n",
       "      <td>64</td>\n",
       "      <td>2014-01-01</td>\n",
       "      <td>2014</td>\n",
       "      <td>01</td>\n",
       "      <td>01</td>\n",
       "    </tr>\n",
       "    <tr>\n",
       "      <th>1</th>\n",
       "      <td>adidas</td>\n",
       "      <td>germany</td>\n",
       "      <td>12417.0</td>\n",
       "      <td>84.20</td>\n",
       "      <td>consumer discretionary</td>\n",
       "      <td>6.08</td>\n",
       "      <td>15.08</td>\n",
       "      <td>64</td>\n",
       "      <td>2014-02-01</td>\n",
       "      <td>2014</td>\n",
       "      <td>02</td>\n",
       "      <td>01</td>\n",
       "    </tr>\n",
       "    <tr>\n",
       "      <th>2</th>\n",
       "      <td>adidas</td>\n",
       "      <td>germany</td>\n",
       "      <td>12417.0</td>\n",
       "      <td>78.49</td>\n",
       "      <td>consumer discretionary</td>\n",
       "      <td>6.08</td>\n",
       "      <td>15.08</td>\n",
       "      <td>64</td>\n",
       "      <td>2014-03-01</td>\n",
       "      <td>2014</td>\n",
       "      <td>03</td>\n",
       "      <td>01</td>\n",
       "    </tr>\n",
       "    <tr>\n",
       "      <th>3</th>\n",
       "      <td>adidas</td>\n",
       "      <td>germany</td>\n",
       "      <td>12417.0</td>\n",
       "      <td>76.73</td>\n",
       "      <td>consumer discretionary</td>\n",
       "      <td>6.08</td>\n",
       "      <td>15.08</td>\n",
       "      <td>64</td>\n",
       "      <td>2014-04-01</td>\n",
       "      <td>2014</td>\n",
       "      <td>04</td>\n",
       "      <td>01</td>\n",
       "    </tr>\n",
       "    <tr>\n",
       "      <th>4</th>\n",
       "      <td>adidas</td>\n",
       "      <td>germany</td>\n",
       "      <td>12417.0</td>\n",
       "      <td>78.71</td>\n",
       "      <td>consumer discretionary</td>\n",
       "      <td>6.08</td>\n",
       "      <td>15.08</td>\n",
       "      <td>64</td>\n",
       "      <td>2014-05-01</td>\n",
       "      <td>2014</td>\n",
       "      <td>05</td>\n",
       "      <td>01</td>\n",
       "    </tr>\n",
       "  </tbody>\n",
       "</table>\n",
       "</div>"
      ],
      "text/plain": [
       "  company_name  country   assets  price                  sector  operating  \\\n",
       "0       adidas  germany  12417.0  82.91  consumer discretionary       6.08   \n",
       "1       adidas  germany  12417.0  84.20  consumer discretionary       6.08   \n",
       "2       adidas  germany  12417.0  78.49  consumer discretionary       6.08   \n",
       "3       adidas  germany  12417.0  76.73  consumer discretionary       6.08   \n",
       "4       adidas  germany  12417.0  78.71  consumer discretionary       6.08   \n",
       "\n",
       "   debt_to_assets  age        date  year month day  \n",
       "0           15.08   64  2014-01-01  2014    01  01  \n",
       "1           15.08   64  2014-02-01  2014    02  01  \n",
       "2           15.08   64  2014-03-01  2014    03  01  \n",
       "3           15.08   64  2014-04-01  2014    04  01  \n",
       "4           15.08   64  2014-05-01  2014    05  01  "
      ]
     },
     "execution_count": 36,
     "metadata": {},
     "output_type": "execute_result"
    }
   ],
   "source": [
    "financial_long.head()"
   ]
  },
  {
   "cell_type": "code",
   "execution_count": null,
   "metadata": {},
   "outputs": [],
   "source": []
  }
 ],
 "metadata": {
  "kernelspec": {
   "display_name": "Python [conda env:smm635]",
   "language": "python",
   "name": "conda-env-smm635-py"
  },
  "language_info": {
   "codemirror_mode": {
    "name": "ipython",
    "version": 3
   },
   "file_extension": ".py",
   "mimetype": "text/x-python",
   "name": "python",
   "nbconvert_exporter": "python",
   "pygments_lexer": "ipython3",
   "version": "3.8.5"
  },
  "latex_envs": {
   "LaTeX_envs_menu_present": true,
   "autoclose": false,
   "autocomplete": true,
   "bibliofile": "biblio.bib",
   "cite_by": "apalike",
   "current_citInitial": 1,
   "eqLabelWithNumbers": true,
   "eqNumInitial": 1,
   "hotkeys": {
    "equation": "Ctrl-E",
    "itemize": "Ctrl-I"
   },
   "labels_anchors": false,
   "latex_user_defs": false,
   "report_style_numbering": false,
   "user_envs_cfg": false
  },
  "toc": {
   "base_numbering": 1,
   "nav_menu": {},
   "number_sections": true,
   "sideBar": true,
   "skip_h1_title": false,
   "title_cell": "Table of Contents",
   "title_sidebar": "Contents",
   "toc_cell": false,
   "toc_position": {},
   "toc_section_display": true,
   "toc_window_display": true
  },
  "varInspector": {
   "cols": {
    "lenName": 16,
    "lenType": 16,
    "lenVar": 40
   },
   "kernels_config": {
    "python": {
     "delete_cmd_postfix": "",
     "delete_cmd_prefix": "del ",
     "library": "var_list.py",
     "varRefreshCmd": "print(var_dic_list())"
    },
    "r": {
     "delete_cmd_postfix": ") ",
     "delete_cmd_prefix": "rm(",
     "library": "var_list.r",
     "varRefreshCmd": "cat(var_dic_list()) "
    }
   },
   "types_to_exclude": [
    "module",
    "function",
    "builtin_function_or_method",
    "instance",
    "_Feature"
   ],
   "window_display": false
  }
 },
 "nbformat": 4,
 "nbformat_minor": 4
}
